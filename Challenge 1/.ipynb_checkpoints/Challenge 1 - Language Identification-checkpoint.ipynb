{
 "cells": [
  {
   "cell_type": "markdown",
   "id": "c5bfbf82",
   "metadata": {},
   "source": [
    "# Import necessary Libraries"
   ]
  },
  {
   "cell_type": "code",
   "execution_count": 57,
   "id": "7b452160",
   "metadata": {},
   "outputs": [],
   "source": [
    "import nltk,csv\n",
    "import numpy as np\n",
    "from sklearn.model_selection import train_test_split\n",
    "from nltk import sent_tokenize, word_tokenize, pos_tag\n",
    "import string"
   ]
  },
  {
   "cell_type": "markdown",
   "id": "f026ed6c",
   "metadata": {},
   "source": [
    "# Import dataset"
   ]
  },
  {
   "cell_type": "markdown",
   "id": "7779f8df",
   "metadata": {},
   "source": [
    "Read the csv file\n",
    "    \n"
   ]
  },
  {
   "cell_type": "code",
   "execution_count": 56,
   "id": "ab2fd74d",
   "metadata": {},
   "outputs": [
    {
     "name": "stdout",
     "output_type": "stream",
     "text": [
      "Header: ['Text', 'Language', 'ID']\n"
     ]
    }
   ],
   "source": [
    "filename = \"language-identification-datasets.csv\"\n",
    "file = open(filename,encoding='utf8')\n",
    "csv_reader = csv.reader(file)\n",
    "\n",
    "header = []\n",
    "header = next(csv_reader)\n",
    "print(\"Header: \"+str(header))\n",
    "\n",
    "rows = []\n",
    "for row in csv_reader:\n",
    "    rows.append(row)"
   ]
  },
  {
   "cell_type": "markdown",
   "id": "d36aeb54",
   "metadata": {},
   "source": [
    "# Preprocessing"
   ]
  },
  {
   "cell_type": "code",
   "execution_count": null,
   "id": "3a22061f",
   "metadata": {},
   "outputs": [],
   "source": [
    "punctuations = \" ?.!/;:,\"\n",
    "for row in rows:\n",
    "    "
   ]
  },
  {
   "cell_type": "markdown",
   "id": "54bbf432",
   "metadata": {},
   "source": [
    "# Tokenization"
   ]
  },
  {
   "cell_type": "markdown",
   "id": "193e4ab7",
   "metadata": {},
   "source": [
    "Read the dataset as String format"
   ]
  },
  {
   "cell_type": "code",
   "execution_count": null,
   "id": "b3cf88f9",
   "metadata": {},
   "outputs": [],
   "source": [
    "for row in rows "
   ]
  },
  {
   "cell_type": "markdown",
   "id": "dc9d7fe9",
   "metadata": {},
   "source": [
    "Tokenization process"
   ]
  },
  {
   "cell_type": "code",
   "execution_count": null,
   "id": "50aae237",
   "metadata": {},
   "outputs": [],
   "source": []
  },
  {
   "cell_type": "code",
   "execution_count": null,
   "id": "1534e816",
   "metadata": {},
   "outputs": [],
   "source": []
  }
 ],
 "metadata": {
  "kernelspec": {
   "display_name": "Python 3 (ipykernel)",
   "language": "python",
   "name": "python3"
  },
  "language_info": {
   "codemirror_mode": {
    "name": "ipython",
    "version": 3
   },
   "file_extension": ".py",
   "mimetype": "text/x-python",
   "name": "python",
   "nbconvert_exporter": "python",
   "pygments_lexer": "ipython3",
   "version": "3.9.12"
  }
 },
 "nbformat": 4,
 "nbformat_minor": 5
}
