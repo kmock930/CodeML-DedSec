{
 "cells": [
  {
   "cell_type": "markdown",
   "id": "c5bfbf82",
   "metadata": {},
   "source": [
    "# Import necessary Libraries"
   ]
  },
  {
   "cell_type": "code",
   "execution_count": 57,
   "id": "7b452160",
   "metadata": {},
   "outputs": [],
   "source": [
    "import nltk,csv\n",
    "import numpy as np\n",
    "from sklearn.model_selection import train_test_split\n",
    "from nltk import sent_tokenize, word_tokenize, pos_tag\n",
    "import string"
   ]
  },
  {
   "cell_type": "markdown",
   "id": "f026ed6c",
   "metadata": {},
   "source": [
    "# Import dataset"
   ]
  },
  {
   "cell_type": "markdown",
   "id": "fd2e8420",
   "metadata": {},
   "source": [
    "Read the csv file\n",
    "    \n"
   ]
  },
  {
   "cell_type": "code",
   "execution_count": 56,
   "id": "f93f8430",
   "metadata": {},
   "outputs": [
    {
     "name": "stdout",
     "output_type": "stream",
     "text": [
      "Header: ['Text', 'Language', 'ID']\n"
     ]
    }
   ],
   "source": [
    "filename = \"language-identification-datasets.csv\"\n",
    "file = open(filename,encoding='utf8')\n",
    "csv_reader = csv.reader(file)\n",
    "\n",
    "header = []\n",
    "header = next(csv_reader)\n",
    "print(\"Header: \"+str(header))\n",
    "\n",
    "rows = []\n",
    "for row in csv_reader:\n",
    "    rows.append(row)"
   ]
  },
  {
   "cell_type": "markdown",
   "id": "92319bf0",
   "metadata": {},
   "source": [
    "# Preprocessing"
   ]
  },
  {
   "cell_type": "code",
   "execution_count": 66,
   "id": "f551e238",
   "metadata": {},
   "outputs": [
    {
     "name": "stdout",
     "output_type": "stream",
     "text": [
      "!\"#$%&'()*+,-./:;<=>?@[\\]^_`{|}~\n"
     ]
    }
   ],
   "source": [
    "punctuations = string.punctuation\n",
    "print(punctuations)"
   ]
  },
  {
   "cell_type": "code",
   "execution_count": 73,
   "id": "4487f838",
   "metadata": {},
   "outputs": [
    {
     "name": "stdout",
     "output_type": "stream",
     "text": [
      "[138] For instance, Meta-Wiki provides important statistics on all language editions of Wikipedia,[139] and it maintains a list of articles every Wikipedia should have.\n"
     ]
    }
   ],
   "source": [
    "original = rows[5][0]\n",
    "for row in rows:\n",
    "    for char in row[0]:\n",
    "        if char in punctuations:\n",
    "            row[0].replace(char,'')\n",
    "new = rows[5][0]\n",
    "original == new\n",
    "print(new)"
   ]
  },
  {
   "cell_type": "markdown",
   "id": "54bbf432",
   "metadata": {},
   "source": [
    "# Tokenization"
   ]
  },
  {
   "cell_type": "markdown",
   "id": "193e4ab7",
   "metadata": {},
   "source": [
    "Read the dataset as String format"
   ]
  },
  {
   "cell_type": "code",
   "execution_count": null,
   "id": "b3cf88f9",
   "metadata": {},
   "outputs": [],
   "source": [
    "for row in rows "
   ]
  },
  {
   "cell_type": "markdown",
   "id": "dc9d7fe9",
   "metadata": {},
   "source": [
    "Tokenization process"
   ]
  },
  {
   "cell_type": "code",
   "execution_count": null,
   "id": "50aae237",
   "metadata": {},
   "outputs": [],
   "source": []
  },
  {
   "cell_type": "code",
   "execution_count": null,
   "id": "96ef48e2",
   "metadata": {},
   "outputs": [],
   "source": []
  }
 ],
 "metadata": {
  "kernelspec": {
   "display_name": "Python 3 (ipykernel)",
   "language": "python",
   "name": "python3"
  },
  "language_info": {
   "codemirror_mode": {
    "name": "ipython",
    "version": 3
   },
   "file_extension": ".py",
   "mimetype": "text/x-python",
   "name": "python",
   "nbconvert_exporter": "python",
   "pygments_lexer": "ipython3",
   "version": "3.9.12"
  }
 },
 "nbformat": 4,
 "nbformat_minor": 5
}
